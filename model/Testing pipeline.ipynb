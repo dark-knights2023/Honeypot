{
 "cells": [
  {
   "cell_type": "code",
   "execution_count": 29,
   "id": "c74e6a9d",
   "metadata": {},
   "outputs": [],
   "source": [
    "import librosa # 0.8.1\n",
    "import pickle  # \n",
    "\n",
    "import numpy as np # 1.20.1\n",
    "import pandas as pd # 1.3.1"
   ]
  },
  {
   "cell_type": "code",
   "execution_count": 30,
   "id": "761442d9",
   "metadata": {},
   "outputs": [],
   "source": [
    "def feature_extract(path):\n",
    "    final_arr=[]\n",
    "    mfcc=librosa.feature.mfcc(librosa.load(path)[0],n_mfcc=13)\n",
    "    mfcc_delta=librosa.feature.delta(mfcc, order=1)\n",
    "    mfcc_delta_delta=librosa.feature.delta(mfcc, order=2)\n",
    "    final_arr.append((np.mean(mfcc,axis=1),np.mean(mfcc_delta,axis=1),np.mean(mfcc_delta_delta,axis=1)))\n",
    "    return final_arr    \n"
   ]
  },
  {
   "cell_type": "code",
   "execution_count": 31,
   "id": "991121c3",
   "metadata": {},
   "outputs": [],
   "source": [
    "##angry-0, neutral-1, disgust-2, sad-3, fear-4, happy-5, ps-6\n",
    "\n",
    "def normalize(excel,final_arr):\n",
    "    df=pd.read_csv(excel)\n",
    "    mean=df[\"0\"].values\n",
    "    std=df[\"1\"].values\n",
    "    for i in range(len(final_arr)):\n",
    "        final_arr[i]=(final_arr[i]-mean[i])/std[i]\n",
    "    return final_arr\n",
    "\n",
    "def result(model,final_arr):\n",
    "    with open(model,'rb') as f:\n",
    "        clf = pickle.load(f)\n",
    "    prediction=clf.predict(final_arr)\n",
    "    print(prediction)\n",
    "    \n",
    "    if prediction==0:\n",
    "        print(\"angry\")\n",
    "    elif prediction==1:\n",
    "        print(\"neutral\")\n",
    "    elif prediction==2:\n",
    "        print(\"disgust\")\n",
    "    elif prediction==3:\n",
    "        print(\"sad\")\n",
    "    elif prediction==4:\n",
    "        print(\"fear\")\n",
    "    elif prediction==5:\n",
    "        print(\"happy\")\n",
    "    else:\n",
    "        print(\"surprised\")\n",
    "    "
   ]
  },
  {
   "cell_type": "code",
   "execution_count": 37,
   "id": "6df79647",
   "metadata": {},
   "outputs": [],
   "source": [
    "arr=feature_extract(\"/Users/vagrant/Downloads/dataverse_files/OAF_bar_disgust.wav\")"
   ]
  },
  {
   "cell_type": "code",
   "execution_count": 38,
   "id": "7a4c2f0d",
   "metadata": {},
   "outputs": [],
   "source": [
    "def important(arr):\n",
    "    big_arr=[]\n",
    "    for i in arr:\n",
    "        for j in i:\n",
    "            for k in j:\n",
    "                big_arr.append(k)\n",
    "    return big_arr\n",
    "            "
   ]
  },
  {
   "cell_type": "code",
   "execution_count": 39,
   "id": "8de4fcd3",
   "metadata": {},
   "outputs": [],
   "source": [
    "arr=important(arr)\n",
    "arr=normalize(\"normalize.csv\",arr)"
   ]
  },
  {
   "cell_type": "code",
   "execution_count": 40,
   "id": "36a09786",
   "metadata": {},
   "outputs": [
    {
     "data": {
      "text/plain": [
       "(1, 40)"
      ]
     },
     "execution_count": 40,
     "metadata": {},
     "output_type": "execute_result"
    }
   ],
   "source": [
    "arr.insert(0,0)\n",
    "arr=np.array(arr)\n",
    "arr=arr.reshape(1, -1)\n",
    "arr.shape\n",
    "#result(\"svm_tess\",arr)"
   ]
  },
  {
   "cell_type": "code",
   "execution_count": 41,
   "id": "7c9ab66a",
   "metadata": {},
   "outputs": [
    {
     "name": "stdout",
     "output_type": "stream",
     "text": [
      "[0]\n",
      "angry\n"
     ]
    },
    {
     "name": "stderr",
     "output_type": "stream",
     "text": [
      "/Users/vagrant/miniforge3/envs/sih/lib/python3.9/site-packages/sklearn/base.py:329: UserWarning: Trying to unpickle estimator SVC from version 0.24.2 when using version 1.0.2. This might lead to breaking code or invalid results. Use at your own risk. For more info please refer to:\n",
      "https://scikit-learn.org/stable/modules/model_persistence.html#security-maintainability-limitations\n",
      "  warnings.warn(\n"
     ]
    }
   ],
   "source": [
    "result(\"svm_tess\",arr)"
   ]
  },
  {
   "cell_type": "code",
   "execution_count": null,
   "id": "66aa7433",
   "metadata": {},
   "outputs": [],
   "source": []
  },
  {
   "cell_type": "code",
   "execution_count": null,
   "id": "a5e97e57",
   "metadata": {},
   "outputs": [],
   "source": []
  }
 ],
 "metadata": {
  "kernelspec": {
   "display_name": "Python 3",
   "language": "python",
   "name": "python3"
  },
  "language_info": {
   "codemirror_mode": {
    "name": "ipython",
    "version": 3
   },
   "file_extension": ".py",
   "mimetype": "text/x-python",
   "name": "python",
   "nbconvert_exporter": "python",
   "pygments_lexer": "ipython3",
   "version": "3.8.8"
  }
 },
 "nbformat": 4,
 "nbformat_minor": 5
}
